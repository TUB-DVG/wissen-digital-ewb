{
 "cells": [
  {
   "cell_type": "code",
   "execution_count": 1,
   "id": "09c39b64",
   "metadata": {},
   "outputs": [
    {
     "name": "stdout",
     "output_type": "stream",
     "text": [
      "1_minute\n"
     ]
    }
   ],
   "source": [
    "#Importing the wetterDienst library and the plotly library for graphing\n",
    "import wetterdienst\n",
    "from wetterdienst.provider.dwd.observation import DwdObservationRequest, \\\n",
    "    DwdObservationPeriod, DwdObservationResolution, DwdObservationDataset,DwdObservationParameter\n",
    "import plotly.express as px\n",
    "from plotly.graph_objs import *\n",
    "\n"
   ]
  },
  {
   "cell_type": "code",
   "execution_count": null,
   "id": "9f64af8f",
   "metadata": {},
   "outputs": [
    {
     "name": "stdout",
     "output_type": "stream",
     "text": [
      "Please use the options as they are given\n",
      "Enter Resolution:\n",
      "Options: ['MINUTE_1', 'MINUTE_10', 'HOURLY', 'SUBDAILY', 'DAILY', 'MONTHLY', 'ANNUAL']\n"
     ]
    }
   ],
   "source": [
    "#Setting up the resolution for data filtering\n",
    "print('Please use the options as they are given')\n",
    "\n",
    "print('Enter Resolution:')\n",
    "print('Options:',DwdObservationResolution._member_names_)\n",
    "Resolution=input()\n",
    "\n"
   ]
  },
  {
   "cell_type": "code",
   "execution_count": null,
   "id": "10646288",
   "metadata": {},
   "outputs": [],
   "source": [
    "#Selecting the dataset\n",
    "datasets=[]\n",
    "for i in range(0,len(dir(getattr(DwdObservationParameter,Resolution)))):\n",
    "    datasets.append(dir(getattr(DwdObservationParameter,Resolution))[i])\n",
    "    if dir(getattr(DwdObservationParameter,Resolution))[i+1]=='__class__':\n",
    "        break\n",
    "\n",
    "print('Enter Dataset:')\n",
    "print('Options:',datasets)\n",
    "Dataset=input()\n",
    "\n"
   ]
  },
  {
   "cell_type": "code",
   "execution_count": null,
   "id": "74a10133",
   "metadata": {},
   "outputs": [],
   "source": [
    "# Parameter variable selection\n",
    "\n",
    "setting=getattr(DwdObservationParameter,Resolution)\n",
    "\n",
    "\n",
    "Parameters=[]\n",
    "for i in range(0,len(dir(getattr(setting,Dataset)))):\n",
    "    if dir(getattr(setting,Dataset))[i]=='__class__':\n",
    "        break\n",
    "    Parameters.append(dir(getattr(setting,Dataset))[i])\n",
    "    \n",
    "if Parameters==[]:\n",
    "    Parameter=Dataset\n",
    "else:\n",
    "    print('Enter Parameter:')\n",
    "    print('Options:',Parameters)\n",
    "    Parameter=input()"
   ]
  },
  {
   "cell_type": "code",
   "execution_count": null,
   "id": "8c5dcc15",
   "metadata": {},
   "outputs": [],
   "source": [
    "#Setting up the Period\n",
    "\n",
    "print('Enter Period:')\n",
    "print('Options:',DwdObservationPeriod._member_names_)\n",
    "Period=input()\n",
    "\n"
   ]
  },
  {
   "cell_type": "code",
   "execution_count": null,
   "id": "6be65149",
   "metadata": {},
   "outputs": [],
   "source": [
    "# Acquiring all the stations that provide data according to selected filters\n",
    "stations = DwdObservationRequest(\n",
    "      parameter=Parameter,\n",
    "      resolution=Resolution,\n",
    "      period=Period\n",
    "       )\n",
    "\n",
    "print(stations.all().df)\n",
    "print('\\n')\n",
    "\n"
   ]
  },
  {
   "cell_type": "code",
   "execution_count": null,
   "id": "81ec1c2e",
   "metadata": {},
   "outputs": [],
   "source": [
    "#Filter for a spefic station and graphing data\n",
    "\n",
    "print('Choose Station from the above table:')\n",
    "station_id=input('Enter Statins ID:')\n",
    "\n",
    "data= stations.filter_by_station_id(station_id=station_id)\n",
    "\n",
    "station_data = data.values.all().df\n",
    "#print(station_data)\n",
    "    \n",
    "\n",
    "tidy = station_data.groupby(['date','value']).sum().reset_index(level=[0,1])\n",
    "print(tidy)\n",
    "fig = px.bar(tidy,x='date',y='value',\n",
    " labels={\n",
    "                     \"date\": \"Year \",\n",
    "                     \"value\":'TEMPERATURE_AIR',\n",
    "\n",
    "                     \n",
    "                 },\n",
    "                title=Parameter,barmode='group',color='quality')\n",
    "fig.show()\n",
    "\n"
   ]
  },
  {
   "cell_type": "code",
   "execution_count": null,
   "id": "05357d94",
   "metadata": {},
   "outputs": [],
   "source": []
  }
 ],
 "metadata": {
  "kernelspec": {
   "display_name": "Python 3 (ipykernel)",
   "language": "python",
   "name": "python3"
  },
  "language_info": {
   "codemirror_mode": {
    "name": "ipython",
    "version": 3
   },
   "file_extension": ".py",
   "mimetype": "text/x-python",
   "name": "python",
   "nbconvert_exporter": "python",
   "pygments_lexer": "ipython3",
   "version": "3.10.0"
  }
 },
 "nbformat": 4,
 "nbformat_minor": 5
}
