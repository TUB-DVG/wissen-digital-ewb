{
 "cells": [
  {
   "cell_type": "code",
   "execution_count": 1,
   "id": "036f2232",
   "metadata": {},
   "outputs": [],
   "source": [
    "import pandas as pd\n",
    "import os\n",
    "import sys"
   ]
  },
  {
   "cell_type": "code",
   "execution_count": 2,
   "id": "a28026c7",
   "metadata": {},
   "outputs": [],
   "source": [
    "# aktuelle Arbeitsverzeichnis anpassen (soll das Verzeichnis sein, in dem das\n",
    "# Skipt liegt, relative Pfade sind darauf ausgerichtet)\n",
    "os.chdir('/home/cudok/Documents/GitHub/projektliste_bf/')\n"
   ]
  },
  {
   "cell_type": "code",
   "execution_count": 3,
   "id": "a1dab083",
   "metadata": {},
   "outputs": [],
   "source": [
    "path_modules = os.path.join(\n",
    "    '../../GitHub/dvg_lib/ProjektListe/')  # zeigt auf den Ordner indem die\n",
    "                                   # Datei auswertung.pytung.py liegt\n",
    "sys.path.append(path_modules)\n",
    "import auswertung as asw\n"
   ]
  },
  {
   "cell_type": "code",
   "execution_count": 4,
   "id": "67f26a92",
   "metadata": {},
   "outputs": [],
   "source": [
    "#pip freeze"
   ]
  },
  {
   "cell_type": "markdown",
   "id": "316df53d-28b3-4c91-86a9-33d2631c45df",
   "metadata": {},
   "source": [
    "# Einlesen"
   ]
  },
  {
   "cell_type": "code",
   "execution_count": 5,
   "id": "8d451c00-adca-4250-8f61-356bc8cb18bf",
   "metadata": {},
   "outputs": [],
   "source": [
    "list_spalten = '02_Parameter_Dateien/Spalten_xml2csv_Vergl.csv'\n",
    "xml2csv = '02_Parameter_Dateien/Spalten_dict_xml2csv_Vergl.csv'\n",
    "path_xml = \"../../../Nextcloud/Shared/Digitale_Vernetzung/Assis/03_Projekte/DVG0001_BMWi_Wende/12_Daten/01_Enargus/Daten_von_Bosch_2022_02_01/enargus.xml\""
   ]
  },
  {
   "cell_type": "code",
   "execution_count": 6,
   "id": "01724a63-1358-4642-b589-5174a03fb314",
   "metadata": {},
   "outputs": [],
   "source": [
    "df = asw.read_xml_enargus(path_xml, xml2csv, list_spalten)"
   ]
  },
  {
   "cell_type": "code",
   "execution_count": 7,
   "id": "799bf7a3-4892-4e2d-b958-c8e6497ff3ed",
   "metadata": {},
   "outputs": [
    {
     "name": "stdout",
     "output_type": "stream",
     "text": [
      "<class 'pandas.core.frame.DataFrame'>\n",
      "RangeIndex: 1647 entries, 0 to 1646\n",
      "Data columns (total 34 columns):\n",
      " #   Column                 Non-Null Count  Dtype \n",
      "---  ------                 --------------  ----- \n",
      " 0   fkz                    1647 non-null   object\n",
      " 1   db                     1647 non-null   object\n",
      " 2   fi_von/iso8601         1647 non-null   object\n",
      " 3   fi_ende/iso8601        1647 non-null   object\n",
      " 4   v_thema                1647 non-null   object\n",
      " 5   fi_sumbew/value        1647 non-null   object\n",
      " 6   ver_bez                1647 non-null   object\n",
      " 7   lp_nr                  1647 non-null   object\n",
      " 8   lp_text                1647 non-null   object\n",
      " 9   name_st                1647 non-null   object\n",
      " 10  plz_strasse_st         1647 non-null   object\n",
      " 11  ort_st                 1647 non-null   object\n",
      " 12  ad_str_st              1647 non-null   object\n",
      " 13  land_st                1647 non-null   object\n",
      " 14  gem_gemkz_st           1647 non-null   object\n",
      " 15  name_ze                1647 non-null   object\n",
      " 16  plz_strasse_ze         1647 non-null   object\n",
      " 17  ort_ze                 1647 non-null   object\n",
      " 18  ad_str_ze              1647 non-null   object\n",
      " 19  land_ze                1647 non-null   object\n",
      " 20  gem_gemkz_ze           1647 non-null   object\n",
      " 21  v_ressort              1647 non-null   object\n",
      " 22  v_pt_detail            1647 non-null   object\n",
      " 23  v_forschsp_text        1647 non-null   object\n",
      " 24  v_prog_text            1647 non-null   object\n",
      " 25  auf_bez_pub            1419 non-null   object\n",
      " 26  auf_bez_pub_quelle     1419 non-null   object\n",
      " 27  auf_bez_pub_en         1303 non-null   object\n",
      " 28  auf_bez_pub_quelle_en  0 non-null      object\n",
      " 29  pers_pl                1647 non-null   object\n",
      " 30  pers_titel_pl          1305 non-null   object\n",
      " 31  pers_vname_pl          1647 non-null   object\n",
      " 32  pers_name_pl           1647 non-null   object\n",
      " 33  pers_email_pl          1647 non-null   object\n",
      "dtypes: object(34)\n",
      "memory usage: 437.6+ KB\n"
     ]
    }
   ],
   "source": [
    "df.info()"
   ]
  },
  {
   "cell_type": "code",
   "execution_count": 8,
   "id": "2deec647",
   "metadata": {},
   "outputs": [],
   "source": [
    "#cols_vec = asw.read_spalten_vor_csv('02_Parameter_Dateien/Spalten_xml2csv_Vergl.csv')\n",
    "#cols_vec"
   ]
  },
  {
   "cell_type": "code",
   "execution_count": 9,
   "id": "60992d5c",
   "metadata": {},
   "outputs": [],
   "source": [
    "#namenspaces_enargus = {'':\"http://www.enargus.de/elements/0.1/begleitforschung/\", 'bscw':\"http://bscw.de/bscw/elements/0.1/\"}"
   ]
  },
  {
   "cell_type": "code",
   "execution_count": 10,
   "id": "0c68e1d4",
   "metadata": {},
   "outputs": [],
   "source": [
    "#cols = ['FKZ', 'Datenbank', 'Laufzeitbeginn']\n",
    "#col_dic = {'FKZ':'fkz', 'Datenbank':'db', 'Laufzeitbeginn':'fi_von/iso8601'}\n",
    "#df_test = asw.read_xml(path_xml,col_dic, cols, namespaces=namenspaces_enargus)"
   ]
  },
  {
   "cell_type": "code",
   "execution_count": 11,
   "id": "8409034e",
   "metadata": {},
   "outputs": [],
   "source": [
    "#df_test"
   ]
  },
  {
   "cell_type": "code",
   "execution_count": 12,
   "id": "43120767-0d58-4e61-91cd-421c734fc6fa",
   "metadata": {},
   "outputs": [],
   "source": [
    "path_excel = '../../../Nextcloud/Shared/WenDE/12_Daten/03_Gesamt_BF_Daten/20220207_Verteiler_EWB_Projekte.xlsx'"
   ]
  },
  {
   "cell_type": "code",
   "execution_count": 13,
   "id": "7c4d432d-a094-4278-9e71-12e84c89a3e0",
   "metadata": {},
   "outputs": [],
   "source": [
    "df_xlsx = pd.read_excel(path_excel, sheet_name='EnArgus Rohdaten')"
   ]
  },
  {
   "cell_type": "code",
   "execution_count": 14,
   "id": "3409dc9a-0534-4fbe-8178-c2124ddd97e7",
   "metadata": {},
   "outputs": [
    {
     "name": "stdout",
     "output_type": "stream",
     "text": [
      "<class 'pandas.core.frame.DataFrame'>\n",
      "RangeIndex: 1647 entries, 0 to 1646\n",
      "Data columns (total 46 columns):\n",
      " #   Column                                  Non-Null Count  Dtype         \n",
      "---  ------                                  --------------  -----         \n",
      " 0   http://bscw.de/bscw/elements/0.1/.oid   1647 non-null   int64         \n",
      " 1   http://bscw.de/bscw/elements/0.1/.name  1647 non-null   object        \n",
      " 2   fkz                                     1647 non-null   object        \n",
      " 3   db                                      1647 non-null   object        \n",
      " 4   v_thema                                 1647 non-null   object        \n",
      " 5   fi_sumbew.value                         1647 non-null   float64       \n",
      " 6   fi_sumbew.currency                      1647 non-null   object        \n",
      " 7   fi_von.type                             1647 non-null   object        \n",
      " 8   fi_von.iso8601                          1647 non-null   datetime64[ns]\n",
      " 9   fi_ende.type                            1647 non-null   object        \n",
      " 10  fi_ende.iso8601                         1647 non-null   datetime64[ns]\n",
      " 11  ver_bez                                 1647 non-null   object        \n",
      " 12  lp_nr                                   1647 non-null   object        \n",
      " 13  lp_text                                 1647 non-null   object        \n",
      " 14  name_st                                 1647 non-null   object        \n",
      " 15  plz_strasse_st                          1647 non-null   int64         \n",
      " 16  ort_st                                  1647 non-null   object        \n",
      " 17  ad_str_st                               1647 non-null   object        \n",
      " 18  land_st                                 1647 non-null   object        \n",
      " 19  gem_gemkz_st                            1647 non-null   int64         \n",
      " 20  name_ze                                 1647 non-null   object        \n",
      " 21  plz_strasse_ze                          1647 non-null   int64         \n",
      " 22  ort_ze                                  1647 non-null   object        \n",
      " 23  ad_str_ze                               1647 non-null   object        \n",
      " 24  land_ze                                 1647 non-null   object        \n",
      " 25  gem_gemkz_ze                            1647 non-null   int64         \n",
      " 26  v_ressort                               1647 non-null   object        \n",
      " 27  v_pt_detail                             1647 non-null   object        \n",
      " 28  v_forschsp_text                         1647 non-null   object        \n",
      " 29  v_prog_text                             1647 non-null   object        \n",
      " 30  v_kwort                                 1647 non-null   object        \n",
      " 31  auf_bez_pub                             1419 non-null   object        \n",
      " 32  auf_bez_pub_quelle                      1419 non-null   object        \n",
      " 33  auf_bez_pub_en                          1303 non-null   object        \n",
      " 34  auf_bez_pub_en_quelle                   1303 non-null   object        \n",
      " 35  pers_pl                                 1647 non-null   object        \n",
      " 36  pers_titel_pl                           1305 non-null   object        \n",
      " 37  pers_vname_pl                           1647 non-null   object        \n",
      " 38  pers_name_pl                            1647 non-null   object        \n",
      " 39  pers_email_pl                           1647 non-null   object        \n",
      " 40  laengengrad_st                          1629 non-null   float64       \n",
      " 41  breitengrad_st                          1629 non-null   float64       \n",
      " 42  Spalte1                                 0 non-null      float64       \n",
      " 43  Nicht in Projektliste                   1647 non-null   object        \n",
      " 44  Bewilligung >= 2021                     1647 non-null   object        \n",
      " 45  Neues Projekt                           1647 non-null   bool          \n",
      "dtypes: bool(1), datetime64[ns](2), float64(4), int64(5), object(34)\n",
      "memory usage: 580.8+ KB\n"
     ]
    }
   ],
   "source": [
    "df_xlsx.info()"
   ]
  },
  {
   "cell_type": "markdown",
   "id": "309132b2",
   "metadata": {},
   "source": [
    "#### xml teilweise nicht vollbesetzt\n",
    " 31  auf_bez_pub                             1419 non-null   object        \n",
    " 32  auf_bez_pub_quelle                      1419 non-null   object        \n",
    " 33  auf_bez_pub_en                          1303 non-null   object        \n",
    " 34  auf_bez_pub_en_quelle                   1303 non-null   object  \n",
    " 36  pers_titel_pl                           1305 non-null   object\n",
    " 40  laengengrad_st                          1629 non-null   float64    \n",
    " 41  breitengrad_st                          1629 non-null   float64       \n",
    " 42  Spalte1                                 0 non-null      float64 "
   ]
  },
  {
   "cell_type": "markdown",
   "id": "89343b7f-1b8c-4ee3-a3e0-e07930d3a422",
   "metadata": {},
   "source": [
    "# Vergleich\n",
    "funktioniert noch nicht. Es liegt wahrscheinlich an den Spaltennamen"
   ]
  },
  {
   "cell_type": "code",
   "execution_count": 15,
   "id": "31b409a2",
   "metadata": {},
   "outputs": [],
   "source": [
    "#df_xlsx[['fkz', 'db']].info()"
   ]
  },
  {
   "cell_type": "code",
   "execution_count": 16,
   "id": "def01e1f",
   "metadata": {},
   "outputs": [],
   "source": [
    "#df[['fkz', 'db']].info()"
   ]
  },
  {
   "cell_type": "markdown",
   "id": "ef512a23",
   "metadata": {},
   "source": [
    "# Für 11 Projekte stimmt die excel-Datei nicht mit der xml beim Enddatum überein"
   ]
  },
  {
   "cell_type": "code",
   "execution_count": 17,
   "id": "fff6f026-15fc-4b72-9071-57604c328845",
   "metadata": {
    "scrolled": true
   },
   "outputs": [
    {
     "name": "stdout",
     "output_type": "stream",
     "text": [
      "<class 'pandas.core.frame.DataFrame'>\n",
      "Int64Index: 22 entries, 79 to 878\n",
      "Data columns (total 5 columns):\n",
      " #   Column           Non-Null Count  Dtype \n",
      "---  ------           --------------  ----- \n",
      " 0   fkz              22 non-null     object\n",
      " 1   db               22 non-null     object\n",
      " 2   v_thema          22 non-null     object\n",
      " 3   fi_von/iso8601   22 non-null     object\n",
      " 4   fi_ende/iso8601  22 non-null     object\n",
      "dtypes: object(5)\n",
      "memory usage: 1.0+ KB\n"
     ]
    }
   ],
   "source": [
    "col_xml = ['fkz', 'db', 'v_thema', 'fi_von/iso8601', 'fi_ende/iso8601']\n",
    "col_xlsx = ['fkz', 'db','v_thema']\n",
    "df_xml_part = df[col_xml]\n",
    "df_xlsx_part = df_xlsx[col_xlsx]\n",
    "# format und name anpassen\n",
    "series_start_xlsx = df_xlsx['fi_von.iso8601'].dt.strftime('%Y-%m-%d').rename('fi_von/iso8601')\n",
    "df_xlsx_part = pd.concat([df_xlsx_part, series_start_xlsx], axis=1)\n",
    "series_ende_xlsx = df_xlsx['fi_ende.iso8601'].dt.strftime('%Y-%m-%d').rename('fi_ende/iso8601')\n",
    "df_xlsx_part = pd.concat([df_xlsx_part, series_ende_xlsx], axis=1)\n",
    "\n",
    "df_fkz_diff = pd.concat([df_xml_part, df_xlsx_part]).drop_duplicates(keep=False)\n",
    "df_fkz_diff.info()"
   ]
  },
  {
   "cell_type": "code",
   "execution_count": 18,
   "id": "a0ce1ca7",
   "metadata": {},
   "outputs": [
    {
     "data": {
      "text/html": [
       "<div>\n",
       "<style scoped>\n",
       "    .dataframe tbody tr th:only-of-type {\n",
       "        vertical-align: middle;\n",
       "    }\n",
       "\n",
       "    .dataframe tbody tr th {\n",
       "        vertical-align: top;\n",
       "    }\n",
       "\n",
       "    .dataframe thead th {\n",
       "        text-align: right;\n",
       "    }\n",
       "</style>\n",
       "<table border=\"1\" class=\"dataframe\">\n",
       "  <thead>\n",
       "    <tr style=\"text-align: right;\">\n",
       "      <th></th>\n",
       "      <th>fkz</th>\n",
       "      <th>db</th>\n",
       "      <th>v_thema</th>\n",
       "      <th>fi_von/iso8601</th>\n",
       "      <th>fi_ende/iso8601</th>\n",
       "    </tr>\n",
       "  </thead>\n",
       "  <tbody>\n",
       "    <tr>\n",
       "      <th>79</th>\n",
       "      <td>03ETW012D</td>\n",
       "      <td>PROFI</td>\n",
       "      <td>Verbundvorhaben: Verfahren zur softwaregestütz...</td>\n",
       "      <td>2019-01-01</td>\n",
       "      <td>2022-06-30</td>\n",
       "    </tr>\n",
       "    <tr>\n",
       "      <th>184</th>\n",
       "      <td>03ETW010</td>\n",
       "      <td>PROFI</td>\n",
       "      <td>TeBwA- Temperaturbasierte energetische Bilanzi...</td>\n",
       "      <td>2019-03-01</td>\n",
       "      <td>2022-12-31</td>\n",
       "    </tr>\n",
       "    <tr>\n",
       "      <th>192</th>\n",
       "      <td>03EGB0017B</td>\n",
       "      <td>PROFI</td>\n",
       "      <td>Verbundvorhaben: Coso - Entwicklung von Maßnah...</td>\n",
       "      <td>2019-03-01</td>\n",
       "      <td>2022-04-15</td>\n",
       "    </tr>\n",
       "    <tr>\n",
       "      <th>193</th>\n",
       "      <td>03EGB0017A</td>\n",
       "      <td>PROFI</td>\n",
       "      <td>Verbundvorhaben: CoSo - Entwicklung von Maßnah...</td>\n",
       "      <td>2019-03-01</td>\n",
       "      <td>2022-05-31</td>\n",
       "    </tr>\n",
       "    <tr>\n",
       "      <th>194</th>\n",
       "      <td>03EGB0017C</td>\n",
       "      <td>PROFI</td>\n",
       "      <td>Verbundvorhaben: Coso - Entwicklung von Maßnah...</td>\n",
       "      <td>2019-03-01</td>\n",
       "      <td>2022-05-31</td>\n",
       "    </tr>\n",
       "    <tr>\n",
       "      <th>477</th>\n",
       "      <td>03EN3001</td>\n",
       "      <td>PROFI</td>\n",
       "      <td>EnEff:Wärme - ZellFlex: Identifikation urbaner...</td>\n",
       "      <td>2019-05-01</td>\n",
       "      <td>2023-03-31</td>\n",
       "    </tr>\n",
       "    <tr>\n",
       "      <th>495</th>\n",
       "      <td>03ET1635C</td>\n",
       "      <td>PROFI</td>\n",
       "      <td>EnEff:Stadt: Drei Prozent Plus: Umsetzung des ...</td>\n",
       "      <td>2019-01-01</td>\n",
       "      <td>2022-09-30</td>\n",
       "    </tr>\n",
       "    <tr>\n",
       "      <th>496</th>\n",
       "      <td>03ET1634E</td>\n",
       "      <td>PROFI</td>\n",
       "      <td>EnEff:Wärme: ErdEisII: Verbundprojekt: Erdeiss...</td>\n",
       "      <td>2019-03-01</td>\n",
       "      <td>2022-12-31</td>\n",
       "    </tr>\n",
       "    <tr>\n",
       "      <th>498</th>\n",
       "      <td>03ET1634C</td>\n",
       "      <td>PROFI</td>\n",
       "      <td>EnEff:Wärme: ErdEisII: Verbundprojekt: Erdeiss...</td>\n",
       "      <td>2019-03-01</td>\n",
       "      <td>2022-12-31</td>\n",
       "    </tr>\n",
       "    <tr>\n",
       "      <th>877</th>\n",
       "      <td>03EGB0012C</td>\n",
       "      <td>PROFI</td>\n",
       "      <td>EG2050: EffTecSomodIn: Energieeffiziente Moder...</td>\n",
       "      <td>2018-07-01</td>\n",
       "      <td>2023-06-30</td>\n",
       "    </tr>\n",
       "    <tr>\n",
       "      <th>878</th>\n",
       "      <td>03EGB0012B</td>\n",
       "      <td>PROFI</td>\n",
       "      <td>EG2050: EffTecSomodIn: Energieeffiziente Moder...</td>\n",
       "      <td>2018-07-01</td>\n",
       "      <td>2023-06-30</td>\n",
       "    </tr>\n",
       "    <tr>\n",
       "      <th>79</th>\n",
       "      <td>03ETW012D</td>\n",
       "      <td>PROFI</td>\n",
       "      <td>Verbundvorhaben: Verfahren zur softwaregestütz...</td>\n",
       "      <td>2019-01-01</td>\n",
       "      <td>2021-12-31</td>\n",
       "    </tr>\n",
       "    <tr>\n",
       "      <th>184</th>\n",
       "      <td>03ETW010</td>\n",
       "      <td>PROFI</td>\n",
       "      <td>TeBwA- Temperaturbasierte energetische Bilanzi...</td>\n",
       "      <td>2019-03-01</td>\n",
       "      <td>2022-02-28</td>\n",
       "    </tr>\n",
       "    <tr>\n",
       "      <th>192</th>\n",
       "      <td>03EGB0017B</td>\n",
       "      <td>PROFI</td>\n",
       "      <td>Verbundvorhaben: Coso - Entwicklung von Maßnah...</td>\n",
       "      <td>2019-03-01</td>\n",
       "      <td>2022-02-28</td>\n",
       "    </tr>\n",
       "    <tr>\n",
       "      <th>193</th>\n",
       "      <td>03EGB0017A</td>\n",
       "      <td>PROFI</td>\n",
       "      <td>Verbundvorhaben: CoSo - Entwicklung von Maßnah...</td>\n",
       "      <td>2019-03-01</td>\n",
       "      <td>2022-02-28</td>\n",
       "    </tr>\n",
       "    <tr>\n",
       "      <th>194</th>\n",
       "      <td>03EGB0017C</td>\n",
       "      <td>PROFI</td>\n",
       "      <td>Verbundvorhaben: Coso - Entwicklung von Maßnah...</td>\n",
       "      <td>2019-03-01</td>\n",
       "      <td>2022-02-28</td>\n",
       "    </tr>\n",
       "    <tr>\n",
       "      <th>477</th>\n",
       "      <td>03EN3001</td>\n",
       "      <td>PROFI</td>\n",
       "      <td>EnEff:Wärme - ZellFlex: Identifikation urbaner...</td>\n",
       "      <td>2019-05-01</td>\n",
       "      <td>2022-04-30</td>\n",
       "    </tr>\n",
       "    <tr>\n",
       "      <th>495</th>\n",
       "      <td>03ET1635C</td>\n",
       "      <td>PROFI</td>\n",
       "      <td>EnEff:Stadt: Drei Prozent Plus: Umsetzung des ...</td>\n",
       "      <td>2019-01-01</td>\n",
       "      <td>2022-06-30</td>\n",
       "    </tr>\n",
       "    <tr>\n",
       "      <th>496</th>\n",
       "      <td>03ET1634E</td>\n",
       "      <td>PROFI</td>\n",
       "      <td>EnEff:Wärme: ErdEisII: Verbundprojekt: Erdeiss...</td>\n",
       "      <td>2019-03-01</td>\n",
       "      <td>2022-02-28</td>\n",
       "    </tr>\n",
       "    <tr>\n",
       "      <th>498</th>\n",
       "      <td>03ET1634C</td>\n",
       "      <td>PROFI</td>\n",
       "      <td>EnEff:Wärme: ErdEisII: Verbundprojekt: Erdeiss...</td>\n",
       "      <td>2019-03-01</td>\n",
       "      <td>2022-02-28</td>\n",
       "    </tr>\n",
       "    <tr>\n",
       "      <th>877</th>\n",
       "      <td>03EGB0012C</td>\n",
       "      <td>PROFI</td>\n",
       "      <td>EG2050: EffTecSomodIn: Energieeffiziente Moder...</td>\n",
       "      <td>2018-07-01</td>\n",
       "      <td>2022-06-30</td>\n",
       "    </tr>\n",
       "    <tr>\n",
       "      <th>878</th>\n",
       "      <td>03EGB0012B</td>\n",
       "      <td>PROFI</td>\n",
       "      <td>EG2050: EffTecSomodIn: Energieeffiziente Moder...</td>\n",
       "      <td>2018-07-01</td>\n",
       "      <td>2022-06-30</td>\n",
       "    </tr>\n",
       "  </tbody>\n",
       "</table>\n",
       "</div>"
      ],
      "text/plain": [
       "            fkz     db                                            v_thema  \\\n",
       "79    03ETW012D  PROFI  Verbundvorhaben: Verfahren zur softwaregestütz...   \n",
       "184    03ETW010  PROFI  TeBwA- Temperaturbasierte energetische Bilanzi...   \n",
       "192  03EGB0017B  PROFI  Verbundvorhaben: Coso - Entwicklung von Maßnah...   \n",
       "193  03EGB0017A  PROFI  Verbundvorhaben: CoSo - Entwicklung von Maßnah...   \n",
       "194  03EGB0017C  PROFI  Verbundvorhaben: Coso - Entwicklung von Maßnah...   \n",
       "477    03EN3001  PROFI  EnEff:Wärme - ZellFlex: Identifikation urbaner...   \n",
       "495   03ET1635C  PROFI  EnEff:Stadt: Drei Prozent Plus: Umsetzung des ...   \n",
       "496   03ET1634E  PROFI  EnEff:Wärme: ErdEisII: Verbundprojekt: Erdeiss...   \n",
       "498   03ET1634C  PROFI  EnEff:Wärme: ErdEisII: Verbundprojekt: Erdeiss...   \n",
       "877  03EGB0012C  PROFI  EG2050: EffTecSomodIn: Energieeffiziente Moder...   \n",
       "878  03EGB0012B  PROFI  EG2050: EffTecSomodIn: Energieeffiziente Moder...   \n",
       "79    03ETW012D  PROFI  Verbundvorhaben: Verfahren zur softwaregestütz...   \n",
       "184    03ETW010  PROFI  TeBwA- Temperaturbasierte energetische Bilanzi...   \n",
       "192  03EGB0017B  PROFI  Verbundvorhaben: Coso - Entwicklung von Maßnah...   \n",
       "193  03EGB0017A  PROFI  Verbundvorhaben: CoSo - Entwicklung von Maßnah...   \n",
       "194  03EGB0017C  PROFI  Verbundvorhaben: Coso - Entwicklung von Maßnah...   \n",
       "477    03EN3001  PROFI  EnEff:Wärme - ZellFlex: Identifikation urbaner...   \n",
       "495   03ET1635C  PROFI  EnEff:Stadt: Drei Prozent Plus: Umsetzung des ...   \n",
       "496   03ET1634E  PROFI  EnEff:Wärme: ErdEisII: Verbundprojekt: Erdeiss...   \n",
       "498   03ET1634C  PROFI  EnEff:Wärme: ErdEisII: Verbundprojekt: Erdeiss...   \n",
       "877  03EGB0012C  PROFI  EG2050: EffTecSomodIn: Energieeffiziente Moder...   \n",
       "878  03EGB0012B  PROFI  EG2050: EffTecSomodIn: Energieeffiziente Moder...   \n",
       "\n",
       "    fi_von/iso8601 fi_ende/iso8601  \n",
       "79      2019-01-01      2022-06-30  \n",
       "184     2019-03-01      2022-12-31  \n",
       "192     2019-03-01      2022-04-15  \n",
       "193     2019-03-01      2022-05-31  \n",
       "194     2019-03-01      2022-05-31  \n",
       "477     2019-05-01      2023-03-31  \n",
       "495     2019-01-01      2022-09-30  \n",
       "496     2019-03-01      2022-12-31  \n",
       "498     2019-03-01      2022-12-31  \n",
       "877     2018-07-01      2023-06-30  \n",
       "878     2018-07-01      2023-06-30  \n",
       "79      2019-01-01      2021-12-31  \n",
       "184     2019-03-01      2022-02-28  \n",
       "192     2019-03-01      2022-02-28  \n",
       "193     2019-03-01      2022-02-28  \n",
       "194     2019-03-01      2022-02-28  \n",
       "477     2019-05-01      2022-04-30  \n",
       "495     2019-01-01      2022-06-30  \n",
       "496     2019-03-01      2022-02-28  \n",
       "498     2019-03-01      2022-02-28  \n",
       "877     2018-07-01      2022-06-30  \n",
       "878     2018-07-01      2022-06-30  "
      ]
     },
     "execution_count": 18,
     "metadata": {},
     "output_type": "execute_result"
    }
   ],
   "source": [
    "df_fkz_diff"
   ]
  },
  {
   "cell_type": "markdown",
   "id": "a7dba339",
   "metadata": {},
   "source": [
    "### xlsx-Datei (auch in der xlsx-Datei in calc geprüft)"
   ]
  },
  {
   "cell_type": "code",
   "execution_count": 19,
   "id": "269f1eb8",
   "metadata": {},
   "outputs": [
    {
     "data": {
      "text/html": [
       "<div>\n",
       "<style scoped>\n",
       "    .dataframe tbody tr th:only-of-type {\n",
       "        vertical-align: middle;\n",
       "    }\n",
       "\n",
       "    .dataframe tbody tr th {\n",
       "        vertical-align: top;\n",
       "    }\n",
       "\n",
       "    .dataframe thead th {\n",
       "        text-align: right;\n",
       "    }\n",
       "</style>\n",
       "<table border=\"1\" class=\"dataframe\">\n",
       "  <thead>\n",
       "    <tr style=\"text-align: right;\">\n",
       "      <th></th>\n",
       "      <th>fkz</th>\n",
       "      <th>fi_ende/iso8601</th>\n",
       "    </tr>\n",
       "  </thead>\n",
       "  <tbody>\n",
       "    <tr>\n",
       "      <th>79</th>\n",
       "      <td>03ETW012D</td>\n",
       "      <td>2021-12-31</td>\n",
       "    </tr>\n",
       "  </tbody>\n",
       "</table>\n",
       "</div>"
      ],
      "text/plain": [
       "          fkz fi_ende/iso8601\n",
       "79  03ETW012D      2021-12-31"
      ]
     },
     "execution_count": 19,
     "metadata": {},
     "output_type": "execute_result"
    }
   ],
   "source": [
    "df_xlsx_part[['fkz','fi_ende/iso8601']][df_xlsx_part['fkz']=='03ETW012D']"
   ]
  },
  {
   "cell_type": "markdown",
   "id": "5284ea32",
   "metadata": {},
   "source": [
    "### xml-Datei (auch in der xml-Datei in firefox geprüft)"
   ]
  },
  {
   "cell_type": "code",
   "execution_count": 20,
   "id": "ae40cbf1",
   "metadata": {},
   "outputs": [
    {
     "data": {
      "text/html": [
       "<div>\n",
       "<style scoped>\n",
       "    .dataframe tbody tr th:only-of-type {\n",
       "        vertical-align: middle;\n",
       "    }\n",
       "\n",
       "    .dataframe tbody tr th {\n",
       "        vertical-align: top;\n",
       "    }\n",
       "\n",
       "    .dataframe thead th {\n",
       "        text-align: right;\n",
       "    }\n",
       "</style>\n",
       "<table border=\"1\" class=\"dataframe\">\n",
       "  <thead>\n",
       "    <tr style=\"text-align: right;\">\n",
       "      <th></th>\n",
       "      <th>fkz</th>\n",
       "      <th>fi_ende/iso8601</th>\n",
       "    </tr>\n",
       "  </thead>\n",
       "  <tbody>\n",
       "    <tr>\n",
       "      <th>79</th>\n",
       "      <td>03ETW012D</td>\n",
       "      <td>2022-06-30</td>\n",
       "    </tr>\n",
       "  </tbody>\n",
       "</table>\n",
       "</div>"
      ],
      "text/plain": [
       "          fkz fi_ende/iso8601\n",
       "79  03ETW012D      2022-06-30"
      ]
     },
     "execution_count": 20,
     "metadata": {},
     "output_type": "execute_result"
    }
   ],
   "source": [
    "df_xml_part[['fkz','fi_ende/iso8601']][df_xml_part['fkz']=='03ETW012D']"
   ]
  },
  {
   "cell_type": "markdown",
   "id": "e0a8b114",
   "metadata": {},
   "source": [
    "1. Block: xml \n",
    "2. Block: xlsx\n",
    "xml: Diffenzprojekte haben immer ein späteres  End-Datum\n",
    "- Vermutung: xlsx enthält die ursprünglichen/beantragten End-Daten, die Anpassung auf Grund von genehmigten Verlängerungen werden nicht in Verteiler-xlxs eingepflegt"
   ]
  },
  {
   "cell_type": "markdown",
   "id": "305326fe",
   "metadata": {},
   "source": [
    "## Erste Null in der PLZ bei plz_strasse_st fehlt in der xlxs-Datei \n",
    "- weiterer Vergleich ohne Ende-Datum\n"
   ]
  },
  {
   "cell_type": "markdown",
   "id": "5e801afd",
   "metadata": {},
   "source": [
    "- Die eigentlichen Wert der PLZ sind gleich!!\n",
    "\n",
    "\n",
    "- die ersten Nullen der PLZ sind schon in der xlxs nicht enthalten, dies ist noch ein Grund die nicht die xlxs als Datenquelle zu nutzen"
   ]
  },
  {
   "cell_type": "code",
   "execution_count": 21,
   "id": "651ad8c8",
   "metadata": {},
   "outputs": [
    {
     "name": "stdout",
     "output_type": "stream",
     "text": [
      "<class 'pandas.core.frame.DataFrame'>\n",
      "Int64Index: 342 entries, 54 to 1623\n",
      "Data columns (total 10 columns):\n",
      " #   Column           Non-Null Count  Dtype \n",
      "---  ------           --------------  ----- \n",
      " 0   fkz              342 non-null    object\n",
      " 1   db               342 non-null    object\n",
      " 2   v_thema          342 non-null    object\n",
      " 3   fi_von/iso8601   342 non-null    object\n",
      " 4   fi_sumbew/value  342 non-null    object\n",
      " 5   ver_bez          342 non-null    object\n",
      " 6   lp_nr            342 non-null    object\n",
      " 7   lp_text          342 non-null    object\n",
      " 8   name_st          342 non-null    object\n",
      " 9   plz_strasse_st   342 non-null    object\n",
      "dtypes: object(10)\n",
      "memory usage: 29.4+ KB\n"
     ]
    }
   ],
   "source": [
    "col_xml = ['fkz', 'db', 'v_thema', 'fi_von/iso8601', 'fi_sumbew/value', 'ver_bez','lp_nr','lp_text','name_st',\n",
    "          'plz_strasse_st']\n",
    "col_xlsx = ['fkz', 'db','v_thema','ver_bez','lp_nr','lp_text','name_st']\n",
    "df_xml_part = df[col_xml]\n",
    "df_xlsx_part = df_xlsx[col_xlsx]\n",
    "# format und name anpassen\n",
    "series_start_xlsx = df_xlsx['fi_von.iso8601'].dt.strftime('%Y-%m-%d').rename('fi_von/iso8601')\n",
    "df_xlsx_part = pd.concat([df_xlsx_part, series_start_xlsx], axis=1)\n",
    "series_value_xlsx = df_xlsx['fi_sumbew.value'].astype('str').rename('fi_sumbew/value')\n",
    "df_xlsx_part = pd.concat([df_xlsx_part, series_value_xlsx], axis=1)\n",
    "\n",
    "series_plz_xlsx = df_xlsx['plz_strasse_st'].astype('str')\n",
    "df_xlsx_part = pd.concat([df_xlsx_part, series_plz_xlsx], axis=1)\n",
    "\n",
    "\n",
    "df_fkz_diff = pd.concat([df_xml_part, df_xlsx_part]).drop_duplicates(keep=False)\n",
    "df_fkz_diff.info()"
   ]
  },
  {
   "cell_type": "code",
   "execution_count": 22,
   "id": "400d3ed0",
   "metadata": {},
   "outputs": [
    {
     "data": {
      "text/plain": [
       "{'0325550B': [249, 249], '0325871': [223, 223], '0327511A': [1192, 1192], '0329663N': [1190, 1190], '0329663O': [1189, 1189], '03EGB0009A': [886, 886], '03EGB0013A': [1187, 1187], '03EGB0013B': [1177, 1177], '03EGB0016A': [492, 492], '03EGB0016B': [489, 489], '03EGB0016C': [488, 488], '03EGB0020C': [165, 165], '03EGB0022': [1623, 1623], '03EN1001A': [1094, 1094], '03EN1001B': [1093, 1093], '03EN1001C': [1092, 1092], '03EN1006A': [1081, 1081], '03EN1009E': [1065, 1065], '03EN1020C': [1015, 1015], '03EN1022A': [1008, 1008], '03EN1028D': [983, 983], '03EN1028G': [979, 979], '03EN1029A': [978, 978], '03EN1029C': [976, 976], '03EN1030A': [974, 974], '03EN1032D': [958, 958], '03EN1033B': [950, 950], '03EN1033C': [949, 949], '03EN1033D': [948, 948], '03EN1034A': [946, 946], '03EN1036A': [942, 942], '03EN1036D': [939, 939], '03EN1039C': [929, 929], '03EN1044B': [915, 915], '03EN3001': [477, 477], '03EN3006C': [461, 461], '03EN3006D': [460, 460], '03EN3006E': [459, 459], '03EN3006G': [457, 457], '03EN3018C': [415, 415], '03EN3020D': [408, 408], '03EN3035A': [348, 348], '03EN3035B': [347, 347], '03EN3035C': [346, 346], '03EN3035D': [345, 345], '03EN3040B': [334, 334], '03EN3045B': [283, 283], '03EN6003D': [58, 58], '03EN6004A': [57, 57], '03EN6004B': [56, 56], '03EN6004C': [55, 55], '03EN6005A': [131, 131], '03EN6005B': [130, 130], '03EN6010A': [54, 54], '03EN6011B': [120, 120], '03ESP225A': [867, 867], '03ESP225C': [865, 865], '03ESP402B': [852, 852], '03ET1009C': [1572, 1572], '03ET1080A': [845, 845], '03ET1080B': [844, 844], '03ET1080C': [843, 843], '03ET1119B': [1545, 1545], '03ET1119D': [1543, 1543], '03ET1130B': [1538, 1538], '03ET1130C': [1537, 1537], '03ET1155B': [832, 832], '03ET1166A': [1526, 1526], '03ET1171B': [827, 827], '03ET1211A': [1488, 1488], '03ET1215A': [1485, 1485], '03ET1215B': [1484, 1484], '03ET1215C': [1483, 1483], '03ET1215D': [1482, 1482], '03ET1230B': [818, 818], '03ET1232D': [1468, 1468], '03ET1234A': [816, 816], '03ET1261B': [1452, 1452], '03ET1267A': [1449, 1449], '03ET1268A': [1444, 1444], '03ET1268B': [1443, 1443], '03ET1268C': [1442, 1442], '03ET1268D': [1441, 1441], '03ET1280A': [779, 779], '03ET1284A': [1435, 1435], '03ET1287A': [1430, 1430], '03ET1299B': [1421, 1421], '03ET1315B': [1404, 1404], '03ET1319A': [762, 762], '03ET1322A': [760, 760], '03ET1338A': [745, 745], '03ET1358B': [726, 726], '03ET1359B': [1376, 1376], '03ET1361A': [1372, 1372], '03ET1363A': [721, 721], '03ET1371E': [1033, 1033], '03ET1372A': [1364, 1364], '03ET1372B': [1363, 1363], '03ET1374A': [114, 114], '03ET1374B': [113, 113], ...}"
      ]
     },
     "execution_count": 22,
     "metadata": {},
     "output_type": "execute_result"
    }
   ],
   "source": [
    "df_group = df_fkz_diff[['fkz','plz_strasse_st']].groupby(['fkz'])\n",
    "df_group.groups"
   ]
  },
  {
   "cell_type": "markdown",
   "id": "49edf008",
   "metadata": {},
   "source": [
    "## 3 Abweichungen bei ad_str_st \n",
    "- weiterer Vergleich ohne Ende-Datum und PLZ"
   ]
  },
  {
   "cell_type": "code",
   "execution_count": 23,
   "id": "32f1e267",
   "metadata": {},
   "outputs": [
    {
     "name": "stdout",
     "output_type": "stream",
     "text": [
      "<class 'pandas.core.frame.DataFrame'>\n",
      "Int64Index: 6 entries, 457 to 1449\n",
      "Data columns (total 11 columns):\n",
      " #   Column           Non-Null Count  Dtype \n",
      "---  ------           --------------  ----- \n",
      " 0   fkz              6 non-null      object\n",
      " 1   db               6 non-null      object\n",
      " 2   v_thema          6 non-null      object\n",
      " 3   fi_von/iso8601   6 non-null      object\n",
      " 4   fi_sumbew/value  6 non-null      object\n",
      " 5   ver_bez          6 non-null      object\n",
      " 6   lp_nr            6 non-null      object\n",
      " 7   lp_text          6 non-null      object\n",
      " 8   name_st          6 non-null      object\n",
      " 9   ort_st           6 non-null      object\n",
      " 10  ad_str_st        6 non-null      object\n",
      "dtypes: object(11)\n",
      "memory usage: 576.0+ bytes\n"
     ]
    }
   ],
   "source": [
    "col_xml = ['fkz', 'db', 'v_thema', 'fi_von/iso8601', 'fi_sumbew/value', 'ver_bez','lp_nr','lp_text','name_st',\n",
    "          'ort_st','ad_str_st']\n",
    "col_xlsx = ['fkz', 'db','v_thema','ver_bez','lp_nr','lp_text','name_st','ort_st','ad_str_st']\n",
    "df_xml_part = df[col_xml]\n",
    "df_xlsx_part = df_xlsx[col_xlsx]\n",
    "# format und name anpassen\n",
    "series_start_xlsx = df_xlsx['fi_von.iso8601'].dt.strftime('%Y-%m-%d').rename('fi_von/iso8601')\n",
    "df_xlsx_part = pd.concat([df_xlsx_part, series_start_xlsx], axis=1)\n",
    "series_value_xlsx = df_xlsx['fi_sumbew.value'].astype('str').rename('fi_sumbew/value')\n",
    "df_xlsx_part = pd.concat([df_xlsx_part, series_value_xlsx], axis=1)\n",
    "\n",
    "\n",
    "\n",
    "\n",
    "df_fkz_diff = pd.concat([df_xml_part, df_xlsx_part]).drop_duplicates(keep=False)\n",
    "df_fkz_diff.info()"
   ]
  },
  {
   "cell_type": "code",
   "execution_count": 24,
   "id": "802c4d71",
   "metadata": {},
   "outputs": [
    {
     "data": {
      "text/html": [
       "<div>\n",
       "<style scoped>\n",
       "    .dataframe tbody tr th:only-of-type {\n",
       "        vertical-align: middle;\n",
       "    }\n",
       "\n",
       "    .dataframe tbody tr th {\n",
       "        vertical-align: top;\n",
       "    }\n",
       "\n",
       "    .dataframe thead th {\n",
       "        text-align: right;\n",
       "    }\n",
       "</style>\n",
       "<table border=\"1\" class=\"dataframe\">\n",
       "  <thead>\n",
       "    <tr style=\"text-align: right;\">\n",
       "      <th></th>\n",
       "      <th>fkz</th>\n",
       "      <th>ad_str_st</th>\n",
       "    </tr>\n",
       "  </thead>\n",
       "  <tbody>\n",
       "    <tr>\n",
       "      <th>457</th>\n",
       "      <td>03EN3006G</td>\n",
       "      <td>Hainstr.1a</td>\n",
       "    </tr>\n",
       "    <tr>\n",
       "      <th>668</th>\n",
       "      <td>03ET1433G</td>\n",
       "      <td>Hainstr.1a</td>\n",
       "    </tr>\n",
       "    <tr>\n",
       "      <th>1449</th>\n",
       "      <td>03ET1267A</td>\n",
       "      <td>August-Bebel-Straße 30</td>\n",
       "    </tr>\n",
       "    <tr>\n",
       "      <th>457</th>\n",
       "      <td>03EN3006G</td>\n",
       "      <td>Leutragraben 1</td>\n",
       "    </tr>\n",
       "    <tr>\n",
       "      <th>668</th>\n",
       "      <td>03ET1433G</td>\n",
       "      <td>Leutragraben 1</td>\n",
       "    </tr>\n",
       "    <tr>\n",
       "      <th>1449</th>\n",
       "      <td>03ET1267A</td>\n",
       "      <td>George-Bähr-Str. 1</td>\n",
       "    </tr>\n",
       "  </tbody>\n",
       "</table>\n",
       "</div>"
      ],
      "text/plain": [
       "            fkz               ad_str_st\n",
       "457   03EN3006G              Hainstr.1a\n",
       "668   03ET1433G              Hainstr.1a\n",
       "1449  03ET1267A  August-Bebel-Straße 30\n",
       "457   03EN3006G          Leutragraben 1\n",
       "668   03ET1433G          Leutragraben 1\n",
       "1449  03ET1267A      George-Bähr-Str. 1"
      ]
     },
     "execution_count": 24,
     "metadata": {},
     "output_type": "execute_result"
    }
   ],
   "source": [
    "df_fkz_diff[['fkz','ad_str_st']]"
   ]
  },
  {
   "cell_type": "markdown",
   "id": "6f8f0552",
   "metadata": {},
   "source": [
    "## Erste Null in der PLZ bei plz_strasse_ze fehlt in der xlxs-Datei \n",
    "- weiterer Vergleich ohne Ende-Datum, plz_strasse_st und ad_str_st"
   ]
  },
  {
   "cell_type": "markdown",
   "id": "be449396",
   "metadata": {},
   "source": [
    "- Die eigentlichen Wert der PLZ sind gleich!!\n",
    "\n",
    "\n",
    "- die ersten Nullen der PLZ sind schon in der xlxs nicht enthalten, dies ist noch ein Grund die nicht die xlxs als Datenquelle zu nutzen"
   ]
  },
  {
   "cell_type": "code",
   "execution_count": 52,
   "id": "36e31325",
   "metadata": {},
   "outputs": [
    {
     "name": "stdout",
     "output_type": "stream",
     "text": [
      "<class 'pandas.core.frame.DataFrame'>\n",
      "Int64Index: 308 entries, 54 to 1623\n",
      "Data columns (total 14 columns):\n",
      " #   Column           Non-Null Count  Dtype \n",
      "---  ------           --------------  ----- \n",
      " 0   fkz              308 non-null    object\n",
      " 1   db               308 non-null    object\n",
      " 2   v_thema          308 non-null    object\n",
      " 3   fi_von/iso8601   308 non-null    object\n",
      " 4   fi_sumbew/value  308 non-null    object\n",
      " 5   ver_bez          308 non-null    object\n",
      " 6   lp_nr            308 non-null    object\n",
      " 7   lp_text          308 non-null    object\n",
      " 8   name_st          308 non-null    object\n",
      " 9   ort_st           308 non-null    object\n",
      " 10  land_st          308 non-null    object\n",
      " 11  gem_gemkz_st     308 non-null    object\n",
      " 12  name_ze          308 non-null    object\n",
      " 13  plz_strasse_ze   308 non-null    object\n",
      "dtypes: object(14)\n",
      "memory usage: 36.1+ KB\n"
     ]
    }
   ],
   "source": [
    "col_xml = ['fkz', 'db', 'v_thema', 'fi_von/iso8601', 'fi_sumbew/value', 'ver_bez','lp_nr','lp_text','name_st',\n",
    "          'ort_st','land_st','gem_gemkz_st','name_ze','plz_strasse_ze']\n",
    "col_xlsx = ['fkz', 'db','v_thema','ver_bez','lp_nr','lp_text','name_st','ort_st','land_st','name_ze']\n",
    "df_xml_part = df[col_xml]\n",
    "df_xlsx_part = df_xlsx[col_xlsx]\n",
    "# format und name anpassen\n",
    "series_start_xlsx = df_xlsx['fi_von.iso8601'].dt.strftime('%Y-%m-%d').rename('fi_von/iso8601')\n",
    "df_xlsx_part = pd.concat([df_xlsx_part, series_start_xlsx], axis=1)\n",
    "series_value_xlsx = df_xlsx['fi_sumbew.value'].astype('str').rename('fi_sumbew/value')\n",
    "df_xlsx_part = pd.concat([df_xlsx_part, series_value_xlsx], axis=1)\n",
    "series_gemkz_xlsx = df_xlsx['gem_gemkz_st'].astype('str')\n",
    "df_xlsx_part = pd.concat([df_xlsx_part, series_gemkz_xlsx], axis=1)\n",
    "series_plz_ze_xlsx = df_xlsx['plz_strasse_ze'].astype('str')\n",
    "df_xlsx_part = pd.concat([df_xlsx_part, series_plz_ze_xlsx], axis=1)\n",
    "\n",
    "\n",
    "df_fkz_diff = pd.concat([df_xml_part, df_xlsx_part]).drop_duplicates(keep=False)\n",
    "df_fkz_diff.info()"
   ]
  },
  {
   "cell_type": "code",
   "execution_count": 53,
   "id": "34be2aab",
   "metadata": {},
   "outputs": [
    {
     "data": {
      "text/plain": [
       "{'0325550B': [249, 249], '0325871': [223, 223], '0327511A': [1192, 1192], '0329663N': [1190, 1190], '0329663O': [1189, 1189], '03EGB0009A': [886, 886], '03EGB0013A': [1187, 1187], '03EGB0013B': [1177, 1177], '03EGB0016A': [492, 492], '03EGB0016B': [489, 489], '03EGB0016C': [488, 488], '03EGB0018F': [186, 186], '03EGB0020C': [165, 165], '03EGB0022': [1623, 1623], '03EN1001A': [1094, 1094], '03EN1001C': [1092, 1092], '03EN1006A': [1081, 1081], '03EN1009E': [1065, 1065], '03EN1020C': [1015, 1015], '03EN1022A': [1008, 1008], '03EN1028D': [983, 983], '03EN1028G': [979, 979], '03EN1029A': [978, 978], '03EN1029C': [976, 976], '03EN1030A': [974, 974], '03EN1032D': [958, 958], '03EN1033B': [950, 950], '03EN1033C': [949, 949], '03EN1033D': [948, 948], '03EN1034A': [946, 946], '03EN1036D': [939, 939], '03EN1039C': [929, 929], '03EN3001': [477, 477], '03EN3006C': [461, 461], '03EN3006D': [460, 460], '03EN3006E': [459, 459], '03EN3006G': [457, 457], '03EN3020D': [408, 408], '03EN3035A': [348, 348], '03EN3035B': [347, 347], '03EN3035C': [346, 346], '03EN3035D': [345, 345], '03EN3040B': [334, 334], '03EN3045B': [283, 283], '03EN6003D': [58, 58], '03EN6004A': [57, 57], '03EN6004B': [56, 56], '03EN6004C': [55, 55], '03EN6005A': [131, 131], '03EN6005B': [130, 130], '03EN6010A': [54, 54], '03EN6011B': [120, 120], '03ESP225A': [867, 867], '03ESP225C': [865, 865], '03ESP402B': [852, 852], '03ET1009C': [1572, 1572], '03ET1080B': [844, 844], '03ET1080C': [843, 843], '03ET1119B': [1545, 1545], '03ET1119D': [1543, 1543], '03ET1130B': [1538, 1538], '03ET1130C': [1537, 1537], '03ET1155B': [832, 832], '03ET1166A': [1526, 1526], '03ET1171B': [827, 827], '03ET1211A': [1488, 1488], '03ET1215A': [1485, 1485], '03ET1215B': [1484, 1484], '03ET1215D': [1482, 1482], '03ET1230B': [818, 818], '03ET1232D': [1468, 1468], '03ET1234A': [816, 816], '03ET1261B': [1452, 1452], '03ET1267A': [1449, 1449], '03ET1268A': [1444, 1444], '03ET1268B': [1443, 1443], '03ET1268C': [1442, 1442], '03ET1268D': [1441, 1441], '03ET1280A': [779, 779], '03ET1284A': [1435, 1435], '03ET1287A': [1430, 1430], '03ET1299B': [1421, 1421], '03ET1315B': [1404, 1404], '03ET1319A': [762, 762], '03ET1322A': [760, 760], '03ET1338A': [745, 745], '03ET1358B': [726, 726], '03ET1359B': [1376, 1376], '03ET1361A': [1372, 1372], '03ET1363A': [721, 721], '03ET1371E': [1033, 1033], '03ET1372B': [1363, 1363], '03ET1374A': [114, 114], '03ET1374B': [113, 113], '03ET1374C': [112, 112], '03ET1382A': [713, 713], '03ET1412B': [688, 688], '03ET1414B': [1339, 1339], '03ET1416B': [1333, 1333], '03ET1423A': [1328, 1328], ...}"
      ]
     },
     "execution_count": 53,
     "metadata": {},
     "output_type": "execute_result"
    }
   ],
   "source": [
    "df_group = df_fkz_diff[['fkz','plz_strasse_ze']].groupby(['fkz'])\n",
    "df_group.groups"
   ]
  },
  {
   "cell_type": "markdown",
   "id": "fd3279e1",
   "metadata": {},
   "source": [
    "## 2 Abweichungen in ad_str_ze\n",
    "- weiterer Vergleich ohne Ende-Datum, plz_strasse_st, ad_str_st, plz_strasse_ze"
   ]
  },
  {
   "cell_type": "code",
   "execution_count": 63,
   "id": "9d3b0820",
   "metadata": {},
   "outputs": [
    {
     "name": "stdout",
     "output_type": "stream",
     "text": [
      "<class 'pandas.core.frame.DataFrame'>\n",
      "Int64Index: 4 entries, 457 to 668\n",
      "Data columns (total 15 columns):\n",
      " #   Column           Non-Null Count  Dtype \n",
      "---  ------           --------------  ----- \n",
      " 0   fkz              4 non-null      object\n",
      " 1   db               4 non-null      object\n",
      " 2   v_thema          4 non-null      object\n",
      " 3   fi_von/iso8601   4 non-null      object\n",
      " 4   fi_sumbew/value  4 non-null      object\n",
      " 5   ver_bez          4 non-null      object\n",
      " 6   lp_nr            4 non-null      object\n",
      " 7   lp_text          4 non-null      object\n",
      " 8   name_st          4 non-null      object\n",
      " 9   ort_st           4 non-null      object\n",
      " 10  land_st          4 non-null      object\n",
      " 11  gem_gemkz_st     4 non-null      object\n",
      " 12  name_ze          4 non-null      object\n",
      " 13  ort_ze           4 non-null      object\n",
      " 14  ad_str_ze        4 non-null      object\n",
      "dtypes: object(15)\n",
      "memory usage: 512.0+ bytes\n"
     ]
    }
   ],
   "source": [
    "col_xml = ['fkz', 'db', 'v_thema', 'fi_von/iso8601', 'fi_sumbew/value', 'ver_bez','lp_nr','lp_text','name_st',\n",
    "          'ort_st','land_st','gem_gemkz_st','name_ze', 'ort_ze', 'ad_str_ze']\n",
    "col_xlsx = ['fkz', 'db','v_thema','ver_bez','lp_nr','lp_text','name_st','ort_st','land_st','name_ze', \n",
    "            'ort_ze', 'ad_str_ze']\n",
    "df_xml_part = df[col_xml]\n",
    "df_xlsx_part = df_xlsx[col_xlsx]\n",
    "# format und name anpassen\n",
    "series_start_xlsx = df_xlsx['fi_von.iso8601'].dt.strftime('%Y-%m-%d').rename('fi_von/iso8601')\n",
    "df_xlsx_part = pd.concat([df_xlsx_part, series_start_xlsx], axis=1)\n",
    "series_value_xlsx = df_xlsx['fi_sumbew.value'].astype('str').rename('fi_sumbew/value')\n",
    "df_xlsx_part = pd.concat([df_xlsx_part, series_value_xlsx], axis=1)\n",
    "series_gemkz_xlsx = df_xlsx['gem_gemkz_st'].astype('str')\n",
    "df_xlsx_part = pd.concat([df_xlsx_part, series_gemkz_xlsx], axis=1)\n",
    "\n",
    "\n",
    "\n",
    "df_fkz_diff = pd.concat([df_xml_part, df_xlsx_part]).drop_duplicates(keep=False)\n",
    "df_fkz_diff.info()"
   ]
  },
  {
   "cell_type": "code",
   "execution_count": 64,
   "id": "1ae4929a",
   "metadata": {},
   "outputs": [
    {
     "data": {
      "text/html": [
       "<div>\n",
       "<style scoped>\n",
       "    .dataframe tbody tr th:only-of-type {\n",
       "        vertical-align: middle;\n",
       "    }\n",
       "\n",
       "    .dataframe tbody tr th {\n",
       "        vertical-align: top;\n",
       "    }\n",
       "\n",
       "    .dataframe thead th {\n",
       "        text-align: right;\n",
       "    }\n",
       "</style>\n",
       "<table border=\"1\" class=\"dataframe\">\n",
       "  <thead>\n",
       "    <tr style=\"text-align: right;\">\n",
       "      <th></th>\n",
       "      <th>fkz</th>\n",
       "      <th>ad_str_ze</th>\n",
       "    </tr>\n",
       "  </thead>\n",
       "  <tbody>\n",
       "    <tr>\n",
       "      <th>457</th>\n",
       "      <td>03EN3006G</td>\n",
       "      <td>Hainstr.1a</td>\n",
       "    </tr>\n",
       "    <tr>\n",
       "      <th>668</th>\n",
       "      <td>03ET1433G</td>\n",
       "      <td>Hainstr.1a</td>\n",
       "    </tr>\n",
       "    <tr>\n",
       "      <th>457</th>\n",
       "      <td>03EN3006G</td>\n",
       "      <td>Leutragraben 1</td>\n",
       "    </tr>\n",
       "    <tr>\n",
       "      <th>668</th>\n",
       "      <td>03ET1433G</td>\n",
       "      <td>Leutragraben 1</td>\n",
       "    </tr>\n",
       "  </tbody>\n",
       "</table>\n",
       "</div>"
      ],
      "text/plain": [
       "           fkz       ad_str_ze\n",
       "457  03EN3006G      Hainstr.1a\n",
       "668  03ET1433G      Hainstr.1a\n",
       "457  03EN3006G  Leutragraben 1\n",
       "668  03ET1433G  Leutragraben 1"
      ]
     },
     "execution_count": 64,
     "metadata": {},
     "output_type": "execute_result"
    }
   ],
   "source": [
    "df_fkz_diff[['fkz','ad_str_ze']]"
   ]
  },
  {
   "cell_type": "markdown",
   "id": "299aecca",
   "metadata": {},
   "source": [
    "## 6 Abweichungen in pers_pl\n",
    "- weiterer Vergleich ohne Ende-Datum, plz_strasse_st, ad_str_st, plz_strasse_ze, ad_str_ze\n",
    "- ohne auf_bez_pub_quelle_en, weil keine Einträge in xml und keine Spalte in xlsx"
   ]
  },
  {
   "cell_type": "code",
   "execution_count": 80,
   "id": "a25c329f",
   "metadata": {},
   "outputs": [
    {
     "name": "stdout",
     "output_type": "stream",
     "text": [
      "<class 'pandas.core.frame.DataFrame'>\n",
      "Int64Index: 12 entries, 9 to 530\n",
      "Data columns (total 24 columns):\n",
      " #   Column              Non-Null Count  Dtype \n",
      "---  ------              --------------  ----- \n",
      " 0   fkz                 12 non-null     object\n",
      " 1   db                  12 non-null     object\n",
      " 2   v_thema             12 non-null     object\n",
      " 3   fi_von/iso8601      12 non-null     object\n",
      " 4   fi_sumbew/value     12 non-null     object\n",
      " 5   ver_bez             12 non-null     object\n",
      " 6   lp_nr               12 non-null     object\n",
      " 7   lp_text             12 non-null     object\n",
      " 8   name_st             12 non-null     object\n",
      " 9   ort_st              12 non-null     object\n",
      " 10  land_st             12 non-null     object\n",
      " 11  gem_gemkz_st        12 non-null     object\n",
      " 12  name_ze             12 non-null     object\n",
      " 13  ort_ze              12 non-null     object\n",
      " 14  land_ze             12 non-null     object\n",
      " 15  gem_gemkz_ze        12 non-null     object\n",
      " 16  v_ressort           12 non-null     object\n",
      " 17  v_pt_detail         12 non-null     object\n",
      " 18  v_forschsp_text     12 non-null     object\n",
      " 19  v_prog_text         12 non-null     object\n",
      " 20  auf_bez_pub         12 non-null     object\n",
      " 21  auf_bez_pub_quelle  12 non-null     object\n",
      " 22  auf_bez_pub_en      12 non-null     object\n",
      " 23  pers_pl             12 non-null     object\n",
      "dtypes: object(24)\n",
      "memory usage: 2.3+ KB\n"
     ]
    }
   ],
   "source": [
    "col_xml = ['fkz', 'db', 'v_thema', 'fi_von/iso8601', 'fi_sumbew/value', 'ver_bez','lp_nr','lp_text','name_st',\n",
    "          'ort_st','land_st','gem_gemkz_st','name_ze', 'ort_ze', 'land_ze', 'gem_gemkz_ze', 'v_ressort', \n",
    "           'v_pt_detail', 'v_forschsp_text','v_prog_text', 'auf_bez_pub', 'auf_bez_pub_quelle', 'auf_bez_pub_en',\n",
    "          'pers_pl']\n",
    "col_xlsx = ['fkz', 'db','v_thema','ver_bez','lp_nr','lp_text','name_st','ort_st','land_st','name_ze', \n",
    "            'ort_ze', 'land_ze','v_ressort', 'v_pt_detail','v_forschsp_text', 'v_prog_text', 'auf_bez_pub',\n",
    "           'auf_bez_pub_quelle', 'auf_bez_pub_en', 'pers_pl']\n",
    "df_xml_part = df[col_xml]\n",
    "df_xlsx_part = df_xlsx[col_xlsx]\n",
    "# format und name anpassen\n",
    "series_start_xlsx = df_xlsx['fi_von.iso8601'].dt.strftime('%Y-%m-%d').rename('fi_von/iso8601')\n",
    "df_xlsx_part = pd.concat([df_xlsx_part, series_start_xlsx], axis=1)\n",
    "series_value_xlsx = df_xlsx['fi_sumbew.value'].astype('str').rename('fi_sumbew/value')\n",
    "df_xlsx_part = pd.concat([df_xlsx_part, series_value_xlsx], axis=1)\n",
    "series_gemkz_xlsx = df_xlsx['gem_gemkz_st'].astype('str')\n",
    "df_xlsx_part = pd.concat([df_xlsx_part, series_gemkz_xlsx], axis=1)\n",
    "series_gemkz_ze_xlsx = df_xlsx['gem_gemkz_ze'].astype('str')\n",
    "df_xlsx_part = pd.concat([df_xlsx_part, series_gemkz_ze_xlsx], axis=1)\n",
    "\n",
    "\n",
    "df_fkz_diff = pd.concat([df_xml_part, df_xlsx_part]).drop_duplicates(keep=False)\n",
    "df_fkz_diff.info()"
   ]
  },
  {
   "cell_type": "code",
   "execution_count": 82,
   "id": "65da1ae0",
   "metadata": {},
   "outputs": [
    {
     "data": {
      "text/html": [
       "<div>\n",
       "<style scoped>\n",
       "    .dataframe tbody tr th:only-of-type {\n",
       "        vertical-align: middle;\n",
       "    }\n",
       "\n",
       "    .dataframe tbody tr th {\n",
       "        vertical-align: top;\n",
       "    }\n",
       "\n",
       "    .dataframe thead th {\n",
       "        text-align: right;\n",
       "    }\n",
       "</style>\n",
       "<table border=\"1\" class=\"dataframe\">\n",
       "  <thead>\n",
       "    <tr style=\"text-align: right;\">\n",
       "      <th></th>\n",
       "      <th>fkz</th>\n",
       "      <th>pers_pl</th>\n",
       "    </tr>\n",
       "  </thead>\n",
       "  <tbody>\n",
       "    <tr>\n",
       "      <th>9</th>\n",
       "      <td>03EWR008E</td>\n",
       "      <td>Dr. Dietmar Schaal</td>\n",
       "    </tr>\n",
       "    <tr>\n",
       "      <th>10</th>\n",
       "      <td>03EWR008D</td>\n",
       "      <td>Dr. Dietmar Schaal</td>\n",
       "    </tr>\n",
       "    <tr>\n",
       "      <th>146</th>\n",
       "      <td>03ETW022A</td>\n",
       "      <td>Dr. Christoph Maurer</td>\n",
       "    </tr>\n",
       "    <tr>\n",
       "      <th>303</th>\n",
       "      <td>03EN3049B</td>\n",
       "      <td>Dr. Wiebke Hofacker</td>\n",
       "    </tr>\n",
       "    <tr>\n",
       "      <th>445</th>\n",
       "      <td>03EN3008G</td>\n",
       "      <td>Dr. Ing. Kevin Förderer</td>\n",
       "    </tr>\n",
       "    <tr>\n",
       "      <th>530</th>\n",
       "      <td>03ET1618A</td>\n",
       "      <td>Wirtschaftsingenieur Denise Graef</td>\n",
       "    </tr>\n",
       "    <tr>\n",
       "      <th>9</th>\n",
       "      <td>03EWR008E</td>\n",
       "      <td>Dr. Maximilian Seier</td>\n",
       "    </tr>\n",
       "    <tr>\n",
       "      <th>10</th>\n",
       "      <td>03EWR008D</td>\n",
       "      <td>Dr. Maximilian Seier</td>\n",
       "    </tr>\n",
       "    <tr>\n",
       "      <th>146</th>\n",
       "      <td>03ETW022A</td>\n",
       "      <td>Dr. Bruno Bueno</td>\n",
       "    </tr>\n",
       "    <tr>\n",
       "      <th>303</th>\n",
       "      <td>03EN3049B</td>\n",
       "      <td>Dr. Wiebke Harms</td>\n",
       "    </tr>\n",
       "    <tr>\n",
       "      <th>445</th>\n",
       "      <td>03EN3008G</td>\n",
       "      <td>Dr. Clemens Düpmeier</td>\n",
       "    </tr>\n",
       "    <tr>\n",
       "      <th>530</th>\n",
       "      <td>03ET1618A</td>\n",
       "      <td>Wirtschaftsingenieur David Pflegler</td>\n",
       "    </tr>\n",
       "  </tbody>\n",
       "</table>\n",
       "</div>"
      ],
      "text/plain": [
       "           fkz                              pers_pl\n",
       "9    03EWR008E                   Dr. Dietmar Schaal\n",
       "10   03EWR008D                   Dr. Dietmar Schaal\n",
       "146  03ETW022A                 Dr. Christoph Maurer\n",
       "303  03EN3049B                  Dr. Wiebke Hofacker\n",
       "445  03EN3008G              Dr. Ing. Kevin Förderer\n",
       "530  03ET1618A    Wirtschaftsingenieur Denise Graef\n",
       "9    03EWR008E                 Dr. Maximilian Seier\n",
       "10   03EWR008D                 Dr. Maximilian Seier\n",
       "146  03ETW022A                      Dr. Bruno Bueno\n",
       "303  03EN3049B                     Dr. Wiebke Harms\n",
       "445  03EN3008G                 Dr. Clemens Düpmeier\n",
       "530  03ET1618A  Wirtschaftsingenieur David Pflegler"
      ]
     },
     "execution_count": 82,
     "metadata": {},
     "output_type": "execute_result"
    }
   ],
   "source": [
    "df_fkz_diff[['fkz','pers_pl']]"
   ]
  },
  {
   "cell_type": "markdown",
   "id": "ab0d8c3c",
   "metadata": {},
   "source": [
    "## 1 Abweichungen in pers_titel_pl\n",
    "- weiterer Vergleich ohne Ende-Datum, plz_strasse_st, ad_str_st, plz_strasse_ze, ad_str_ze, pers_pl\n",
    "- ohne auf_bez_pub_quelle_en, weil keine Einträge in xml und keine Spalte in xlsx"
   ]
  },
  {
   "cell_type": "code",
   "execution_count": 85,
   "id": "daaddf25",
   "metadata": {},
   "outputs": [
    {
     "name": "stdout",
     "output_type": "stream",
     "text": [
      "<class 'pandas.core.frame.DataFrame'>\n",
      "Int64Index: 2 entries, 445 to 445\n",
      "Data columns (total 24 columns):\n",
      " #   Column              Non-Null Count  Dtype \n",
      "---  ------              --------------  ----- \n",
      " 0   fkz                 2 non-null      object\n",
      " 1   db                  2 non-null      object\n",
      " 2   v_thema             2 non-null      object\n",
      " 3   fi_von/iso8601      2 non-null      object\n",
      " 4   fi_sumbew/value     2 non-null      object\n",
      " 5   ver_bez             2 non-null      object\n",
      " 6   lp_nr               2 non-null      object\n",
      " 7   lp_text             2 non-null      object\n",
      " 8   name_st             2 non-null      object\n",
      " 9   ort_st              2 non-null      object\n",
      " 10  land_st             2 non-null      object\n",
      " 11  gem_gemkz_st        2 non-null      object\n",
      " 12  name_ze             2 non-null      object\n",
      " 13  ort_ze              2 non-null      object\n",
      " 14  land_ze             2 non-null      object\n",
      " 15  gem_gemkz_ze        2 non-null      object\n",
      " 16  v_ressort           2 non-null      object\n",
      " 17  v_pt_detail         2 non-null      object\n",
      " 18  v_forschsp_text     2 non-null      object\n",
      " 19  v_prog_text         2 non-null      object\n",
      " 20  auf_bez_pub         2 non-null      object\n",
      " 21  auf_bez_pub_quelle  2 non-null      object\n",
      " 22  auf_bez_pub_en      2 non-null      object\n",
      " 23  pers_titel_pl       2 non-null      object\n",
      "dtypes: object(24)\n",
      "memory usage: 400.0+ bytes\n"
     ]
    }
   ],
   "source": [
    "col_xml = ['fkz', 'db', 'v_thema', 'fi_von/iso8601', 'fi_sumbew/value', 'ver_bez','lp_nr','lp_text','name_st',\n",
    "          'ort_st','land_st','gem_gemkz_st','name_ze', 'ort_ze', 'land_ze', 'gem_gemkz_ze', 'v_ressort', \n",
    "           'v_pt_detail', 'v_forschsp_text','v_prog_text', 'auf_bez_pub', 'auf_bez_pub_quelle', 'auf_bez_pub_en'\n",
    "          , 'pers_titel_pl']\n",
    "col_xlsx = ['fkz', 'db','v_thema','ver_bez','lp_nr','lp_text','name_st','ort_st','land_st','name_ze', \n",
    "            'ort_ze', 'land_ze','v_ressort', 'v_pt_detail','v_forschsp_text', 'v_prog_text', 'auf_bez_pub',\n",
    "           'auf_bez_pub_quelle', 'auf_bez_pub_en', 'pers_titel_pl']\n",
    "df_xml_part = df[col_xml]\n",
    "df_xlsx_part = df_xlsx[col_xlsx]\n",
    "# format und name anpassen\n",
    "series_start_xlsx = df_xlsx['fi_von.iso8601'].dt.strftime('%Y-%m-%d').rename('fi_von/iso8601')\n",
    "df_xlsx_part = pd.concat([df_xlsx_part, series_start_xlsx], axis=1)\n",
    "series_value_xlsx = df_xlsx['fi_sumbew.value'].astype('str').rename('fi_sumbew/value')\n",
    "df_xlsx_part = pd.concat([df_xlsx_part, series_value_xlsx], axis=1)\n",
    "series_gemkz_xlsx = df_xlsx['gem_gemkz_st'].astype('str')\n",
    "df_xlsx_part = pd.concat([df_xlsx_part, series_gemkz_xlsx], axis=1)\n",
    "series_gemkz_ze_xlsx = df_xlsx['gem_gemkz_ze'].astype('str')\n",
    "df_xlsx_part = pd.concat([df_xlsx_part, series_gemkz_ze_xlsx], axis=1)\n",
    "\n",
    "\n",
    "df_fkz_diff = pd.concat([df_xml_part, df_xlsx_part]).drop_duplicates(keep=False)\n",
    "df_fkz_diff.info()"
   ]
  },
  {
   "cell_type": "code",
   "execution_count": 86,
   "id": "cb34a629",
   "metadata": {},
   "outputs": [
    {
     "data": {
      "text/html": [
       "<div>\n",
       "<style scoped>\n",
       "    .dataframe tbody tr th:only-of-type {\n",
       "        vertical-align: middle;\n",
       "    }\n",
       "\n",
       "    .dataframe tbody tr th {\n",
       "        vertical-align: top;\n",
       "    }\n",
       "\n",
       "    .dataframe thead th {\n",
       "        text-align: right;\n",
       "    }\n",
       "</style>\n",
       "<table border=\"1\" class=\"dataframe\">\n",
       "  <thead>\n",
       "    <tr style=\"text-align: right;\">\n",
       "      <th></th>\n",
       "      <th>fkz</th>\n",
       "      <th>pers_titel_pl</th>\n",
       "    </tr>\n",
       "  </thead>\n",
       "  <tbody>\n",
       "    <tr>\n",
       "      <th>445</th>\n",
       "      <td>03EN3008G</td>\n",
       "      <td>Dr. Ing.</td>\n",
       "    </tr>\n",
       "    <tr>\n",
       "      <th>445</th>\n",
       "      <td>03EN3008G</td>\n",
       "      <td>Dr.</td>\n",
       "    </tr>\n",
       "  </tbody>\n",
       "</table>\n",
       "</div>"
      ],
      "text/plain": [
       "           fkz pers_titel_pl\n",
       "445  03EN3008G      Dr. Ing.\n",
       "445  03EN3008G           Dr."
      ]
     },
     "execution_count": 86,
     "metadata": {},
     "output_type": "execute_result"
    }
   ],
   "source": [
    "df_fkz_diff[['fkz','pers_titel_pl']]"
   ]
  },
  {
   "cell_type": "markdown",
   "id": "5ed7e969",
   "metadata": {},
   "source": [
    "## 7 Abweichungen in pers_vname_pl + pers_name_pl + pers_email_pl\n",
    "- weiterer Vergleich ohne Ende-Datum, plz_strasse_st, ad_str_st, plz_strasse_ze, ad_str_ze, pers_pl, pers_titel_pl\n",
    "- ohne auf_bez_pub_quelle_en, weil keine Einträge in xml und keine Spalte in xlsx"
   ]
  },
  {
   "cell_type": "code",
   "execution_count": 100,
   "id": "fb2fcb7d",
   "metadata": {},
   "outputs": [
    {
     "name": "stdout",
     "output_type": "stream",
     "text": [
      "<class 'pandas.core.frame.DataFrame'>\n",
      "Int64Index: 14 entries, 9 to 530\n",
      "Data columns (total 26 columns):\n",
      " #   Column              Non-Null Count  Dtype \n",
      "---  ------              --------------  ----- \n",
      " 0   fkz                 14 non-null     object\n",
      " 1   db                  14 non-null     object\n",
      " 2   v_thema             14 non-null     object\n",
      " 3   fi_von/iso8601      14 non-null     object\n",
      " 4   fi_sumbew/value     14 non-null     object\n",
      " 5   ver_bez             14 non-null     object\n",
      " 6   lp_nr               14 non-null     object\n",
      " 7   lp_text             14 non-null     object\n",
      " 8   name_st             14 non-null     object\n",
      " 9   ort_st              14 non-null     object\n",
      " 10  land_st             14 non-null     object\n",
      " 11  gem_gemkz_st        14 non-null     object\n",
      " 12  name_ze             14 non-null     object\n",
      " 13  ort_ze              14 non-null     object\n",
      " 14  land_ze             14 non-null     object\n",
      " 15  gem_gemkz_ze        14 non-null     object\n",
      " 16  v_ressort           14 non-null     object\n",
      " 17  v_pt_detail         14 non-null     object\n",
      " 18  v_forschsp_text     14 non-null     object\n",
      " 19  v_prog_text         14 non-null     object\n",
      " 20  auf_bez_pub         14 non-null     object\n",
      " 21  auf_bez_pub_quelle  14 non-null     object\n",
      " 22  auf_bez_pub_en      14 non-null     object\n",
      " 23  pers_vname_pl       14 non-null     object\n",
      " 24  pers_name_pl        14 non-null     object\n",
      " 25  pers_email_pl       14 non-null     object\n",
      "dtypes: object(26)\n",
      "memory usage: 3.0+ KB\n"
     ]
    }
   ],
   "source": [
    "col_xml = ['fkz', 'db', 'v_thema', 'fi_von/iso8601', 'fi_sumbew/value', 'ver_bez','lp_nr','lp_text','name_st',\n",
    "          'ort_st','land_st','gem_gemkz_st','name_ze', 'ort_ze', 'land_ze', 'gem_gemkz_ze', 'v_ressort', \n",
    "           'v_pt_detail', 'v_forschsp_text','v_prog_text', 'auf_bez_pub', 'auf_bez_pub_quelle', 'auf_bez_pub_en'\n",
    "          , 'pers_vname_pl', 'pers_name_pl', 'pers_email_pl']\n",
    "col_xlsx = ['fkz', 'db','v_thema','ver_bez','lp_nr','lp_text','name_st','ort_st','land_st','name_ze', \n",
    "            'ort_ze', 'land_ze','v_ressort', 'v_pt_detail','v_forschsp_text', 'v_prog_text', 'auf_bez_pub',\n",
    "           'auf_bez_pub_quelle', 'auf_bez_pub_en', 'pers_vname_pl', 'pers_name_pl', 'pers_email_pl']\n",
    "df_xml_part = df[col_xml]\n",
    "df_xlsx_part = df_xlsx[col_xlsx]\n",
    "# format und name anpassen\n",
    "series_start_xlsx = df_xlsx['fi_von.iso8601'].dt.strftime('%Y-%m-%d').rename('fi_von/iso8601')\n",
    "df_xlsx_part = pd.concat([df_xlsx_part, series_start_xlsx], axis=1)\n",
    "series_value_xlsx = df_xlsx['fi_sumbew.value'].astype('str').rename('fi_sumbew/value')\n",
    "df_xlsx_part = pd.concat([df_xlsx_part, series_value_xlsx], axis=1)\n",
    "series_gemkz_xlsx = df_xlsx['gem_gemkz_st'].astype('str')\n",
    "df_xlsx_part = pd.concat([df_xlsx_part, series_gemkz_xlsx], axis=1)\n",
    "series_gemkz_ze_xlsx = df_xlsx['gem_gemkz_ze'].astype('str')\n",
    "df_xlsx_part = pd.concat([df_xlsx_part, series_gemkz_ze_xlsx], axis=1)\n",
    "\n",
    "\n",
    "df_fkz_diff = pd.concat([df_xml_part, df_xlsx_part]).drop_duplicates(keep=False)\n",
    "df_fkz_diff.info()"
   ]
  },
  {
   "cell_type": "code",
   "execution_count": 97,
   "id": "d1a03596",
   "metadata": {},
   "outputs": [
    {
     "data": {
      "text/html": [
       "<div>\n",
       "<style scoped>\n",
       "    .dataframe tbody tr th:only-of-type {\n",
       "        vertical-align: middle;\n",
       "    }\n",
       "\n",
       "    .dataframe tbody tr th {\n",
       "        vertical-align: top;\n",
       "    }\n",
       "\n",
       "    .dataframe thead th {\n",
       "        text-align: right;\n",
       "    }\n",
       "</style>\n",
       "<table border=\"1\" class=\"dataframe\">\n",
       "  <thead>\n",
       "    <tr style=\"text-align: right;\">\n",
       "      <th></th>\n",
       "      <th>fkz</th>\n",
       "      <th>pers_vname_pl</th>\n",
       "      <th>pers_name_pl</th>\n",
       "      <th>pers_email_pl</th>\n",
       "    </tr>\n",
       "  </thead>\n",
       "  <tbody>\n",
       "    <tr>\n",
       "      <th>9</th>\n",
       "      <td>03EWR008E</td>\n",
       "      <td>Dietmar</td>\n",
       "      <td>Schaal</td>\n",
       "      <td>d.schaal@enbw.com</td>\n",
       "    </tr>\n",
       "    <tr>\n",
       "      <th>10</th>\n",
       "      <td>03EWR008D</td>\n",
       "      <td>Dietmar</td>\n",
       "      <td>Schaal</td>\n",
       "      <td>d.schaal@enbw.com</td>\n",
       "    </tr>\n",
       "    <tr>\n",
       "      <th>146</th>\n",
       "      <td>03ETW022A</td>\n",
       "      <td>Christoph</td>\n",
       "      <td>Maurer</td>\n",
       "      <td>christoph.maurer@ise.fraunhofer.de</td>\n",
       "    </tr>\n",
       "    <tr>\n",
       "      <th>303</th>\n",
       "      <td>03EN3049B</td>\n",
       "      <td>Wiebke</td>\n",
       "      <td>Hofacker</td>\n",
       "      <td>wiebke.hofacker@stadtwerke-karlsruhe.de</td>\n",
       "    </tr>\n",
       "    <tr>\n",
       "      <th>390</th>\n",
       "      <td>03EN3024C</td>\n",
       "      <td>Christian</td>\n",
       "      <td>Hüttl</td>\n",
       "      <td>christian.huettl@siemens-energy.com</td>\n",
       "    </tr>\n",
       "    <tr>\n",
       "      <th>445</th>\n",
       "      <td>03EN3008G</td>\n",
       "      <td>Kevin</td>\n",
       "      <td>Förderer</td>\n",
       "      <td>kevin.foerderer@kit.edu</td>\n",
       "    </tr>\n",
       "    <tr>\n",
       "      <th>530</th>\n",
       "      <td>03ET1618A</td>\n",
       "      <td>Denise</td>\n",
       "      <td>Graef</td>\n",
       "      <td>denise.graef@kea-bw.de</td>\n",
       "    </tr>\n",
       "    <tr>\n",
       "      <th>9</th>\n",
       "      <td>03EWR008E</td>\n",
       "      <td>Maximilian</td>\n",
       "      <td>Seier</td>\n",
       "      <td>m.seier@enbw.com</td>\n",
       "    </tr>\n",
       "    <tr>\n",
       "      <th>10</th>\n",
       "      <td>03EWR008D</td>\n",
       "      <td>Maximilian</td>\n",
       "      <td>Seier</td>\n",
       "      <td>m.seier@enbw.com</td>\n",
       "    </tr>\n",
       "    <tr>\n",
       "      <th>146</th>\n",
       "      <td>03ETW022A</td>\n",
       "      <td>Bruno</td>\n",
       "      <td>Bueno</td>\n",
       "      <td>bruno.bueno@ise.fraunhofer.de</td>\n",
       "    </tr>\n",
       "    <tr>\n",
       "      <th>303</th>\n",
       "      <td>03EN3049B</td>\n",
       "      <td>Wiebke</td>\n",
       "      <td>Harms</td>\n",
       "      <td>wiebke.harms@stadtwerke-karlsruhe.de</td>\n",
       "    </tr>\n",
       "    <tr>\n",
       "      <th>390</th>\n",
       "      <td>03EN3024C</td>\n",
       "      <td>Christian</td>\n",
       "      <td>Hüttl</td>\n",
       "      <td>christian.huettl@siemens.com</td>\n",
       "    </tr>\n",
       "    <tr>\n",
       "      <th>445</th>\n",
       "      <td>03EN3008G</td>\n",
       "      <td>Clemens</td>\n",
       "      <td>Düpmeier</td>\n",
       "      <td>clemens.duepmeier@kit.edu</td>\n",
       "    </tr>\n",
       "    <tr>\n",
       "      <th>530</th>\n",
       "      <td>03ET1618A</td>\n",
       "      <td>David</td>\n",
       "      <td>Pflegler</td>\n",
       "      <td>david.pflegler@kea-bw.de</td>\n",
       "    </tr>\n",
       "  </tbody>\n",
       "</table>\n",
       "</div>"
      ],
      "text/plain": [
       "           fkz pers_vname_pl pers_name_pl  \\\n",
       "9    03EWR008E       Dietmar       Schaal   \n",
       "10   03EWR008D       Dietmar       Schaal   \n",
       "146  03ETW022A     Christoph       Maurer   \n",
       "303  03EN3049B        Wiebke     Hofacker   \n",
       "390  03EN3024C     Christian        Hüttl   \n",
       "445  03EN3008G         Kevin     Förderer   \n",
       "530  03ET1618A        Denise        Graef   \n",
       "9    03EWR008E    Maximilian        Seier   \n",
       "10   03EWR008D    Maximilian        Seier   \n",
       "146  03ETW022A         Bruno        Bueno   \n",
       "303  03EN3049B        Wiebke        Harms   \n",
       "390  03EN3024C     Christian        Hüttl   \n",
       "445  03EN3008G       Clemens     Düpmeier   \n",
       "530  03ET1618A         David     Pflegler   \n",
       "\n",
       "                               pers_email_pl  \n",
       "9                          d.schaal@enbw.com  \n",
       "10                         d.schaal@enbw.com  \n",
       "146       christoph.maurer@ise.fraunhofer.de  \n",
       "303  wiebke.hofacker@stadtwerke-karlsruhe.de  \n",
       "390      christian.huettl@siemens-energy.com  \n",
       "445                  kevin.foerderer@kit.edu  \n",
       "530                   denise.graef@kea-bw.de  \n",
       "9                           m.seier@enbw.com  \n",
       "10                          m.seier@enbw.com  \n",
       "146            bruno.bueno@ise.fraunhofer.de  \n",
       "303     wiebke.harms@stadtwerke-karlsruhe.de  \n",
       "390             christian.huettl@siemens.com  \n",
       "445                clemens.duepmeier@kit.edu  \n",
       "530                 david.pflegler@kea-bw.de  "
      ]
     },
     "execution_count": 97,
     "metadata": {},
     "output_type": "execute_result"
    }
   ],
   "source": [
    "df_fkz_diff[['fkz','pers_vname_pl', 'pers_name_pl', 'pers_email_pl']]"
   ]
  },
  {
   "cell_type": "markdown",
   "id": "ccca850c",
   "metadata": {},
   "source": [
    "# Zusammenfassung"
   ]
  },
  {
   "cell_type": "markdown",
   "id": "1455408e",
   "metadata": {},
   "source": [
    "## Abweichung in:\n",
    "- fi_ende.iso8601 (Ende-Datum),\n",
    "- plz_strasse_st, \n",
    "- ad_str_st, \n",
    "- plz_strasse_ze, \n",
    "- ad_str_ze, pers_pl, \n",
    "- pers_titel_pl\n",
    "- pers_vname_pl\n",
    "- pers_name_pl\n",
    "- pers_email_pl\n",
    "\n",
    "\n",
    "## Keine Daten in\n",
    "- auf_bez_pub_quelle_en\n",
    "- ohne auf_bez_pub_quelle_en, weil keine Einträge in xml und keine Spalte in xlsx\n",
    "\n",
    "## Unvollständig in\n",
    "- auf_bez_pub                             1419 non-null   object        \n",
    "- auf_bez_pub_quelle                      1419 non-null   object        \n",
    "- auf_bez_pub_en                          1303 non-null   object        \n",
    "- auf_bez_pub_en_quelle                   1303 non-null   object  \n",
    "- pers_titel_pl                           1305 non-null   object\n",
    "- laengengrad_st                          1629 non-null   float64    \n",
    "- breitengrad_st                          1629 non-null   float64       \n",
    "- Spalte1                                 0 non-null      float64 "
   ]
  },
  {
   "cell_type": "markdown",
   "id": "e92333b6",
   "metadata": {},
   "source": [
    "## Empfehlung: xml-Datei nutzen für die EnArgus-Infos, weil die xlxs (Verteiler) nicht den aktuellsten Stand der EnArgus-Infos enthält"
   ]
  }
 ],
 "metadata": {
  "kernelspec": {
   "display_name": "xmlenargus",
   "language": "python",
   "name": "xmlenargus"
  },
  "language_info": {
   "codemirror_mode": {
    "name": "ipython",
    "version": 3
   },
   "file_extension": ".py",
   "mimetype": "text/x-python",
   "name": "python",
   "nbconvert_exporter": "python",
   "pygments_lexer": "ipython3",
   "version": "3.9.7"
  }
 },
 "nbformat": 4,
 "nbformat_minor": 5
}
